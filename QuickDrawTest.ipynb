{
 "cells": [
  {
   "cell_type": "code",
   "execution_count": 25,
   "id": "68100f58",
   "metadata": {
    "id": "68100f58",
    "outputId": "59e2d24e-ce5b-4b9b-8786-17a324aafd89"
   },
   "outputs": [],
   "source": [
    "import os\n",
    "import glob\n",
    "import numpy as np\n",
    "from tensorflow.keras import layers\n",
    "from tensorflow import keras \n",
    "import tensorflow as tf\n",
    "import os\n",
    "os.environ['KMP_DUPLICATE_LIB_OK']='True'\n",
    "import tensorflow.compat.v1 as tf\n",
    "\n",
    "tf.disable_v2_behavior()"
   ]
  },
  {
   "cell_type": "code",
   "execution_count": 45,
   "id": "c6b169b3",
   "metadata": {
    "id": "c6b169b3"
   },
   "outputs": [],
   "source": [
    "def load_data(root, vfold_ratio=0.2, max_items_per_class= 5000 ):\n",
    "    all_files = glob.glob(os.path.join(root, '*.npy'))\n",
    "\n",
    "    #initialize variables \n",
    "    x = np.empty([0, 784])\n",
    "    y = np.empty([0])\n",
    "    class_names = []\n",
    "\n",
    "    #load a subset of the data to memory \n",
    "    for idx, file in enumerate(all_files):\n",
    "        data = np.load(file)\n",
    "        data = data[0: max_items_per_class, :]\n",
    "        labels = np.full(data.shape[0], idx)\n",
    "\n",
    "        x = np.concatenate((x, data), axis=0)\n",
    "        y = np.append(y, labels)\n",
    "\n",
    "        class_name, ext = os.path.splitext(os.path.basename(file))\n",
    "        class_names.append(class_name)\n",
    "\n",
    "    data = None\n",
    "    labels = None\n",
    "\n",
    "    #separate into training and testing \n",
    "    permutation = np.random.permutation(y.shape[0])\n",
    "    x = x[permutation, :]\n",
    "    y = y[permutation]\n",
    "\n",
    "    vfold_size = int(x.shape[0]/100*(vfold_ratio*100))\n",
    "\n",
    "    x_test = x[0:vfold_size, :]\n",
    "    y_test = y[0:vfold_size]\n",
    "\n",
    "    x_train = x[vfold_size:x.shape[0], :]\n",
    "    y_train = y[vfold_size:y.shape[0]]\n",
    "    return x_train, y_train, x_test, y_test, class_names"
   ]
  },
  {
   "cell_type": "code",
   "execution_count": 46,
   "id": "c6454565",
   "metadata": {
    "id": "c6454565"
   },
   "outputs": [],
   "source": [
    "x_train, y_train, x_test, y_test, class_names = load_data('data') # data 폴더 안에 .npy 데이터 집어넣기\n",
    "num_classes = len(class_names)\n",
    "image_size = 28"
   ]
  },
  {
   "cell_type": "code",
   "execution_count": 47,
   "id": "719dc8d7",
   "metadata": {
    "id": "719dc8d7",
    "outputId": "ccce8687-503a-4c6b-fd43-8896913e058c"
   },
   "outputs": [
    {
     "name": "stdout",
     "output_type": "stream",
     "text": [
      "24000\n"
     ]
    }
   ],
   "source": [
    "print(len(x_train))"
   ]
  },
  {
   "cell_type": "code",
   "execution_count": 48,
   "id": "0755c457",
   "metadata": {
    "id": "0755c457",
    "outputId": "a7002875-5161-458e-e1f7-ce49ca0a2bf3"
   },
   "outputs": [
    {
     "name": "stdout",
     "output_type": "stream",
     "text": [
      "full_numpy_bitmap_book\n"
     ]
    },
    {
     "data": {
      "image/png": "[encoded data removed]",
      "text/plain": [
       "<Figure size 432x288 with 1 Axes>"
      ]
     },
     "metadata": {
      "needs_background": "light"
     },
     "output_type": "display_data"
    }
   ],
   "source": [
    "import matplotlib.pyplot as plt\n",
    "from random import randint\n",
    "%matplotlib inline  \n",
    "idx = randint(0, len(x_train))\n",
    "plt.imshow(x_train[idx].reshape(28,28)) \n",
    "print(class_names[int(y_train[idx].item())])"
   ]
  },
  {
   "cell_type": "code",
   "execution_count": 49,
   "id": "cca7ea8a",
   "metadata": {
    "id": "cca7ea8a"
   },
   "outputs": [],
   "source": [
    "# Reshape and normalize\n",
    "x_train = x_train.reshape(x_train.shape[0], image_size, image_size, 1).astype('float32')\n",
    "x_test = x_test.reshape(x_test.shape[0], image_size, image_size, 1).astype('float32')\n",
    "\n",
    "x_train /= 255.0\n",
    "x_test /= 255.0\n",
    "\n",
    "# Convert class vectors to class matrices\n",
    "y_train = keras.utils.to_categorical(y_train, num_classes)\n",
    "y_test = keras.utils.to_categorical(y_test, num_classes)"
   ]
  },
  {
   "cell_type": "code",
   "execution_count": 50,
   "id": "c4ce6efe",
   "metadata": {
    "id": "c4ce6efe",
    "outputId": "b8e2955e-e2c3-4574-f173-e9df957299a8"
   },
   "outputs": [
    {
     "name": "stdout",
     "output_type": "stream",
     "text": [
      "Model: \"sequential_2\"\n",
      "_________________________________________________________________\n",
      "Layer (type)                 Output Shape              Param #   \n",
      "=================================================================\n",
      "conv2d_6 (Conv2D)            (None, 28, 28, 16)        160       \n",
      "_________________________________________________________________\n",
      "max_pooling2d_6 (MaxPooling2 (None, 14, 14, 16)        0         \n",
      "_________________________________________________________________\n",
      "conv2d_7 (Conv2D)            (None, 14, 14, 32)        4640      \n",
      "_________________________________________________________________\n",
      "max_pooling2d_7 (MaxPooling2 (None, 7, 7, 32)          0         \n",
      "_________________________________________________________________\n",
      "conv2d_8 (Conv2D)            (None, 7, 7, 64)          18496     \n",
      "_________________________________________________________________\n",
      "max_pooling2d_8 (MaxPooling2 (None, 3, 3, 64)          0         \n",
      "_________________________________________________________________\n",
      "flatten_2 (Flatten)          (None, 576)               0         \n",
      "_________________________________________________________________\n",
      "dense_4 (Dense)              (None, 128)               73856     \n",
      "_________________________________________________________________\n",
      "dense_5 (Dense)              (None, 6)                 774       \n",
      "=================================================================\n",
      "Total params: 97,926\n",
      "Trainable params: 97,926\n",
      "Non-trainable params: 0\n",
      "_________________________________________________________________\n",
      "None\n"
     ]
    }
   ],
   "source": [
    "# Define model\n",
    "model = keras.Sequential()\n",
    "model.add(layers.Convolution2D(16, (3, 3),\n",
    "                        padding='same',\n",
    "                        input_shape=x_train.shape[1:], activation='relu'))\n",
    "model.add(layers.MaxPooling2D(pool_size=(2, 2)))\n",
    "model.add(layers.Convolution2D(32, (3, 3), padding='same', activation= 'relu'))\n",
    "model.add(layers.MaxPooling2D(pool_size=(2, 2)))\n",
    "model.add(layers.Convolution2D(64, (3, 3), padding='same', activation= 'relu'))\n",
    "model.add(layers.MaxPooling2D(pool_size =(2,2)))\n",
    "model.add(layers.Flatten())\n",
    "model.add(layers.Dense(128, activation='relu'))\n",
    "model.add(layers.Dense(num_classes, activation='softmax')) \n",
    "# Train model\n",
    "adam = tf.train.AdamOptimizer()\n",
    "model.compile(loss='categorical_crossentropy',\n",
    "              optimizer=adam,\n",
    "              metrics=['top_k_categorical_accuracy'])\n",
    "print(model.summary())"
   ]
  },
  {
   "cell_type": "code",
   "execution_count": 51,
   "id": "718505a1",
   "metadata": {
    "id": "718505a1",
    "outputId": "0f515708-25a8-4fa5-a8df-b15fe969fd2d"
   },
   "outputs": [
    {
     "name": "stdout",
     "output_type": "stream",
     "text": [
      "Train on 21600 samples, validate on 2400 samples\n",
      "Epoch 1/5\n",
      "21600/21600 - 5s - loss: 0.6902 - top_k_categorical_accuracy: 0.9828 - val_loss: 0.3777 - val_top_k_categorical_accuracy: 0.9975\n",
      "Epoch 2/5\n",
      "21600/21600 - 5s - loss: 0.3359 - top_k_categorical_accuracy: 0.9957 - val_loss: 0.2949 - val_top_k_categorical_accuracy: 0.9971\n",
      "Epoch 3/5\n",
      "21600/21600 - 5s - loss: 0.2780 - top_k_categorical_accuracy: 0.9964 - val_loss: 0.2720 - val_top_k_categorical_accuracy: 0.9987\n",
      "Epoch 4/5\n",
      "21600/21600 - 5s - loss: 0.2330 - top_k_categorical_accuracy: 0.9969 - val_loss: 0.2486 - val_top_k_categorical_accuracy: 0.9975\n",
      "Epoch 5/5\n",
      "21600/21600 - 5s - loss: 0.2066 - top_k_categorical_accuracy: 0.9977 - val_loss: 0.2151 - val_top_k_categorical_accuracy: 0.9996\n"
     ]
    },
    {
     "data": {
      "text/plain": [
       "<keras.callbacks.History at 0x294e50b0978>"
      ]
     },
     "execution_count": 51,
     "metadata": {},
     "output_type": "execute_result"
    }
   ],
   "source": [
    "model.fit(x = x_train, y = y_train, validation_split=0.1, batch_size = 256, verbose=2, epochs=5)"
   ]
  },
  {
   "cell_type": "code",
   "execution_count": 52,
   "id": "08d78cdb",
   "metadata": {
    "id": "08d78cdb",
    "outputId": "85797f71-3281-4da0-d495-4a8160116f85"
   },
   "outputs": [
    {
     "name": "stdout",
     "output_type": "stream",
     "text": [
      "Test accuarcy: 99.63%\n"
     ]
    }
   ],
   "source": [
    "score = model.evaluate(x_test, y_test, verbose=0)\n",
    "print('Test accuarcy: {:0.2f}%'.format(score[1] * 100))"
   ]
  },
  {
   "cell_type": "code",
   "execution_count": 53,
   "id": "0864cb8b",
   "metadata": {
    "id": "0864cb8b",
    "outputId": "b8d79486-5eef-433a-d93d-fc77fa1ff355"
   },
   "outputs": [
    {
     "name": "stdout",
     "output_type": "stream",
     "text": [
      "['full_numpy_bitmap_axe', 'full_numpy_bitmap_apple', 'full_numpy_bitmap_baseball bat', 'full_numpy_bitmap_bee', 'full_numpy_bitmap_banana']\n"
     ]
    },
    {
     "data": {
      "image/png": "[encoded data removed]",
      "text/plain": [
       "<Figure size 432x288 with 1 Axes>"
      ]
     },
     "metadata": {
      "needs_background": "light"
     },
     "output_type": "display_data"
    }
   ],
   "source": [
    "import matplotlib.pyplot as plt\n",
    "from random import randint\n",
    "%matplotlib inline  \n",
    "idx = randint(0, len(x_test))\n",
    "img = x_test[idx]\n",
    "plt.imshow(img.squeeze()) \n",
    "pred = model.predict(np.expand_dims(img, axis=0))[0]\n",
    "ind = (-pred).argsort()[:5]\n",
    "latex = [class_names[x] for x in ind]\n",
    "print(latex)"
   ]
  },
  {
   "cell_type": "code",
   "execution_count": 54,
   "id": "0a8eea60",
   "metadata": {
    "id": "0a8eea60"
   },
   "outputs": [],
   "source": [
    "with open('class_names.txt', 'w') as file_handler:\n",
    "    for item in class_names:\n",
    "        file_handler.write(\"{}\\n\".format(item))"
   ]
  },
  {
   "cell_type": "code",
   "execution_count": 55,
   "id": "5c0af94d",
   "metadata": {},
   "outputs": [
    {
     "name": "stdout",
     "output_type": "stream",
     "text": [
      "Requirement already satisfied: tensorflowjs in c:\\users\\yoonmikim\\anaconda3\\envs\\tftest\\lib\\site-packages (3.18.0)\n",
      "Requirement already satisfied: packaging~=20.9 in c:\\users\\yoonmikim\\anaconda3\\envs\\tftest\\lib\\site-packages (from tensorflowjs) (20.9)\n",
      "Requirement already satisfied: tensorflow<3,>=2.1.0 in c:\\users\\yoonmikim\\anaconda3\\envs\\tftest\\lib\\site-packages (from tensorflowjs) (2.6.2)\n",
      "Requirement already satisfied: six<2,>=1.12.0 in c:\\users\\yoonmikim\\anaconda3\\envs\\tftest\\lib\\site-packages (from tensorflowjs) (1.15.0)\n",
      "Requirement already satisfied: tensorflow-hub<0.13,>=0.7.0 in c:\\users\\yoonmikim\\anaconda3\\envs\\tftest\\lib\\site-packages (from tensorflowjs) (0.12.0)\n",
      "Requirement already satisfied: pyparsing>=2.0.2 in c:\\users\\yoonmikim\\anaconda3\\envs\\tftest\\lib\\site-packages (from packaging~=20.9->tensorflowjs) (3.0.9)\n",
      "Requirement already satisfied: h5py~=3.1.0 in c:\\users\\yoonmikim\\anaconda3\\envs\\tftest\\lib\\site-packages (from tensorflow<3,>=2.1.0->tensorflowjs) (3.1.0)\n",
      "Requirement already satisfied: grpcio<2.0,>=1.37.0 in c:\\users\\yoonmikim\\anaconda3\\envs\\tftest\\lib\\site-packages (from tensorflow<3,>=2.1.0->tensorflowjs) (1.48.2)\n",
      "Requirement already satisfied: astunparse~=1.6.3 in c:\\users\\yoonmikim\\anaconda3\\envs\\tftest\\lib\\site-packages (from tensorflow<3,>=2.1.0->tensorflowjs) (1.6.3)\n",
      "Requirement already satisfied: absl-py~=0.10 in c:\\users\\yoonmikim\\anaconda3\\envs\\tftest\\lib\\site-packages (from tensorflow<3,>=2.1.0->tensorflowjs) (0.15.0)\n",
      "Requirement already satisfied: keras<2.7,>=2.6.0 in c:\\users\\yoonmikim\\anaconda3\\envs\\tftest\\lib\\site-packages (from tensorflow<3,>=2.1.0->tensorflowjs) (2.6.0)\n",
      "Requirement already satisfied: tensorflow-estimator<2.7,>=2.6.0 in c:\\users\\yoonmikim\\anaconda3\\envs\\tftest\\lib\\site-packages (from tensorflow<3,>=2.1.0->tensorflowjs) (2.6.0)\n",
      "Requirement already satisfied: clang~=5.0 in c:\\users\\yoonmikim\\anaconda3\\envs\\tftest\\lib\\site-packages (from tensorflow<3,>=2.1.0->tensorflowjs) (5.0)\n",
      "Requirement already satisfied: keras-preprocessing~=1.1.2 in c:\\users\\yoonmikim\\anaconda3\\envs\\tftest\\lib\\site-packages (from tensorflow<3,>=2.1.0->tensorflowjs) (1.1.2)\n",
      "Requirement already satisfied: opt-einsum~=3.3.0 in c:\\users\\yoonmikim\\anaconda3\\envs\\tftest\\lib\\site-packages (from tensorflow<3,>=2.1.0->tensorflowjs) (3.3.0)\n",
      "Requirement already satisfied: wrapt~=1.12.1 in c:\\users\\yoonmikim\\anaconda3\\envs\\tftest\\lib\\site-packages (from tensorflow<3,>=2.1.0->tensorflowjs) (1.12.1)\n",
      "Requirement already satisfied: numpy~=1.19.2 in c:\\users\\yoonmikim\\anaconda3\\envs\\tftest\\lib\\site-packages (from tensorflow<3,>=2.1.0->tensorflowjs) (1.19.5)\n",
      "Requirement already satisfied: google-pasta~=0.2 in c:\\users\\yoonmikim\\anaconda3\\envs\\tftest\\lib\\site-packages (from tensorflow<3,>=2.1.0->tensorflowjs) (0.2.0)\n",
      "Requirement already satisfied: wheel~=0.35 in c:\\users\\yoonmikim\\anaconda3\\envs\\tftest\\lib\\site-packages (from tensorflow<3,>=2.1.0->tensorflowjs) (0.37.1)\n",
      "Requirement already satisfied: flatbuffers~=1.12.0 in c:\\users\\yoonmikim\\anaconda3\\envs\\tftest\\lib\\site-packages (from tensorflow<3,>=2.1.0->tensorflowjs) (1.12)\n",
      "Requirement already satisfied: protobuf>=3.9.2 in c:\\users\\yoonmikim\\anaconda3\\envs\\tftest\\lib\\site-packages (from tensorflow<3,>=2.1.0->tensorflowjs) (3.19.6)\n",
      "Requirement already satisfied: gast==0.4.0 in c:\\users\\yoonmikim\\anaconda3\\envs\\tftest\\lib\\site-packages (from tensorflow<3,>=2.1.0->tensorflowjs) (0.4.0)\n",
      "Requirement already satisfied: tensorboard<2.7,>=2.6.0 in c:\\users\\yoonmikim\\anaconda3\\envs\\tftest\\lib\\site-packages (from tensorflow<3,>=2.1.0->tensorflowjs) (2.6.0)\n",
      "Requirement already satisfied: typing-extensions~=3.7.4 in c:\\users\\yoonmikim\\anaconda3\\envs\\tftest\\lib\\site-packages (from tensorflow<3,>=2.1.0->tensorflowjs) (3.7.4.3)\n",
      "Requirement already satisfied: termcolor~=1.1.0 in c:\\users\\yoonmikim\\anaconda3\\envs\\tftest\\lib\\site-packages (from tensorflow<3,>=2.1.0->tensorflowjs) (1.1.0)\n",
      "Requirement already satisfied: cached-property in c:\\users\\yoonmikim\\anaconda3\\envs\\tftest\\lib\\site-packages (from h5py~=3.1.0->tensorflow<3,>=2.1.0->tensorflowjs) (1.5.2)\n",
      "Requirement already satisfied: werkzeug>=0.11.15 in c:\\users\\yoonmikim\\anaconda3\\envs\\tftest\\lib\\site-packages (from tensorboard<2.7,>=2.6.0->tensorflow<3,>=2.1.0->tensorflowjs) (2.0.3)\n",
      "Requirement already satisfied: requests<3,>=2.21.0 in c:\\users\\yoonmikim\\anaconda3\\envs\\tftest\\lib\\site-packages (from tensorboard<2.7,>=2.6.0->tensorflow<3,>=2.1.0->tensorflowjs) (2.27.1)\n",
      "Requirement already satisfied: tensorboard-data-server<0.7.0,>=0.6.0 in c:\\users\\yoonmikim\\anaconda3\\envs\\tftest\\lib\\site-packages (from tensorboard<2.7,>=2.6.0->tensorflow<3,>=2.1.0->tensorflowjs) (0.6.1)\n",
      "Requirement already satisfied: setuptools>=41.0.0 in c:\\users\\yoonmikim\\anaconda3\\envs\\tftest\\lib\\site-packages (from tensorboard<2.7,>=2.6.0->tensorflow<3,>=2.1.0->tensorflowjs) (58.0.4)\n",
      "Requirement already satisfied: google-auth<2,>=1.6.3 in c:\\users\\yoonmikim\\anaconda3\\envs\\tftest\\lib\\site-packages (from tensorboard<2.7,>=2.6.0->tensorflow<3,>=2.1.0->tensorflowjs) (1.35.0)\n",
      "Requirement already satisfied: markdown>=2.6.8 in c:\\users\\yoonmikim\\anaconda3\\envs\\tftest\\lib\\site-packages (from tensorboard<2.7,>=2.6.0->tensorflow<3,>=2.1.0->tensorflowjs) (3.3.7)\n",
      "Requirement already satisfied: tensorboard-plugin-wit>=1.6.0 in c:\\users\\yoonmikim\\anaconda3\\envs\\tftest\\lib\\site-packages (from tensorboard<2.7,>=2.6.0->tensorflow<3,>=2.1.0->tensorflowjs) (1.8.1)\n",
      "Requirement already satisfied: google-auth-oauthlib<0.5,>=0.4.1 in c:\\users\\yoonmikim\\anaconda3\\envs\\tftest\\lib\\site-packages (from tensorboard<2.7,>=2.6.0->tensorflow<3,>=2.1.0->tensorflowjs) (0.4.6)\n",
      "Requirement already satisfied: rsa<5,>=3.1.4 in c:\\users\\yoonmikim\\anaconda3\\envs\\tftest\\lib\\site-packages (from google-auth<2,>=1.6.3->tensorboard<2.7,>=2.6.0->tensorflow<3,>=2.1.0->tensorflowjs) (4.9)\n",
      "Requirement already satisfied: pyasn1-modules>=0.2.1 in c:\\users\\yoonmikim\\anaconda3\\envs\\tftest\\lib\\site-packages (from google-auth<2,>=1.6.3->tensorboard<2.7,>=2.6.0->tensorflow<3,>=2.1.0->tensorflowjs) (0.2.8)\n",
      "Requirement already satisfied: cachetools<5.0,>=2.0.0 in c:\\users\\yoonmikim\\anaconda3\\envs\\tftest\\lib\\site-packages (from google-auth<2,>=1.6.3->tensorboard<2.7,>=2.6.0->tensorflow<3,>=2.1.0->tensorflowjs) (4.2.4)\n",
      "Requirement already satisfied: requests-oauthlib>=0.7.0 in c:\\users\\yoonmikim\\anaconda3\\envs\\tftest\\lib\\site-packages (from google-auth-oauthlib<0.5,>=0.4.1->tensorboard<2.7,>=2.6.0->tensorflow<3,>=2.1.0->tensorflowjs) (1.3.1)\n",
      "Requirement already satisfied: importlib-metadata>=4.4 in c:\\users\\yoonmikim\\anaconda3\\envs\\tftest\\lib\\site-packages (from markdown>=2.6.8->tensorboard<2.7,>=2.6.0->tensorflow<3,>=2.1.0->tensorflowjs) (4.8.3)\n",
      "Requirement already satisfied: zipp>=0.5 in c:\\users\\yoonmikim\\anaconda3\\envs\\tftest\\lib\\site-packages (from importlib-metadata>=4.4->markdown>=2.6.8->tensorboard<2.7,>=2.6.0->tensorflow<3,>=2.1.0->tensorflowjs) (3.6.0)\n",
      "Requirement already satisfied: pyasn1<0.5.0,>=0.4.6 in c:\\users\\yoonmikim\\anaconda3\\envs\\tftest\\lib\\site-packages (from pyasn1-modules>=0.2.1->google-auth<2,>=1.6.3->tensorboard<2.7,>=2.6.0->tensorflow<3,>=2.1.0->tensorflowjs) (0.4.8)\n",
      "Requirement already satisfied: urllib3<1.27,>=1.21.1 in c:\\users\\yoonmikim\\anaconda3\\envs\\tftest\\lib\\site-packages (from requests<3,>=2.21.0->tensorboard<2.7,>=2.6.0->tensorflow<3,>=2.1.0->tensorflowjs) (1.26.14)\n",
      "Requirement already satisfied: certifi>=2017.4.17 in c:\\users\\yoonmikim\\anaconda3\\envs\\tftest\\lib\\site-packages (from requests<3,>=2.21.0->tensorboard<2.7,>=2.6.0->tensorflow<3,>=2.1.0->tensorflowjs) (2021.5.30)\n",
      "Requirement already satisfied: charset-normalizer~=2.0.0 in c:\\users\\yoonmikim\\anaconda3\\envs\\tftest\\lib\\site-packages (from requests<3,>=2.21.0->tensorboard<2.7,>=2.6.0->tensorflow<3,>=2.1.0->tensorflowjs) (2.0.12)\n",
      "Requirement already satisfied: idna<4,>=2.5 in c:\\users\\yoonmikim\\anaconda3\\envs\\tftest\\lib\\site-packages (from requests<3,>=2.21.0->tensorboard<2.7,>=2.6.0->tensorflow<3,>=2.1.0->tensorflowjs) (3.4)\n",
      "Requirement already satisfied: oauthlib>=3.0.0 in c:\\users\\yoonmikim\\anaconda3\\envs\\tftest\\lib\\site-packages (from requests-oauthlib>=0.7.0->google-auth-oauthlib<0.5,>=0.4.1->tensorboard<2.7,>=2.6.0->tensorflow<3,>=2.1.0->tensorflowjs) (3.2.2)\n",
      "Requirement already satisfied: dataclasses in c:\\users\\yoonmikim\\anaconda3\\envs\\tftest\\lib\\site-packages (from werkzeug>=0.11.15->tensorboard<2.7,>=2.6.0->tensorflow<3,>=2.1.0->tensorflowjs) (0.8)\n"
     ]
    }
   ],
   "source": [
    "!pip install tensorflowjs "
   ]
  },
  {
   "cell_type": "code",
   "execution_count": 56,
   "id": "e7a92dd8",
   "metadata": {
    "id": "e7a92dd8",
    "outputId": "88fae276-c485-4840-accc-d67da22320d7"
   },
   "outputs": [
    {
     "name": "stdout",
     "output_type": "stream",
     "text": [
      "WARNING:tensorflow:TensorFlow optimizers do not make it possible to access optimizer attributes or optimizer state after instantiation. As a result, we cannot save the optimizer as part of the model save file. You will have to compile your model again after loading it. Prefer using a Keras optimizer instead (see keras.io/optimizers).\n"
     ]
    }
   ],
   "source": [
    "model.save('keras.h5')"
   ]
  },
  {
   "cell_type": "code",
   "execution_count": 57,
   "id": "78b2742e",
   "metadata": {
    "id": "78b2742e",
    "outputId": "3fd1f646-42b1-4845-a6d5-80a960650ba0"
   },
   "outputs": [
    {
     "name": "stderr",
     "output_type": "stream",
     "text": [
      "하위 디렉터리 또는 파일 model이(가) 이미 있습니다.\n"
     ]
    }
   ],
   "source": [
    "!mkdir model"
   ]
  },
  {
   "cell_type": "code",
   "execution_count": 58,
   "id": "9ae895b6",
   "metadata": {
    "id": "9ae895b6"
   },
   "outputs": [],
   "source": [
    "!tensorflowjs_converter --input_format keras keras.h5 model/"
   ]
  },
  {
   "cell_type": "code",
   "execution_count": null,
   "id": "5680b870",
   "metadata": {},
   "outputs": [],
   "source": []
  }
 ],
 "metadata": {
  "colab": {
   "provenance": []
  },
  "kernelspec": {
   "display_name": "tftest",
   "language": "python",
   "name": "tftest"
  },
  "language_info": {
   "codemirror_mode": {
    "name": "ipython",
    "version": 3
   },
   "file_extension": ".py",
   "mimetype": "text/x-python",
   "name": "python",
   "nbconvert_exporter": "python",
   "pygments_lexer": "ipython3",
   "version": "3.6.13"
  }
 },
 "nbformat": 4,
 "nbformat_minor": 5
}
